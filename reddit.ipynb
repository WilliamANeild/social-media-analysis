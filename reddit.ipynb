{
 "cells": [
  {
   "cell_type": "code",
   "execution_count": 1,
   "metadata": {},
   "outputs": [
    {
     "name": "stderr",
     "output_type": "stream",
     "text": [
      "[nltk_data] Downloading package punkt_tab to\n",
      "[nltk_data]     /Users/liamneild/nltk_data...\n",
      "[nltk_data]   Package punkt_tab is already up-to-date!\n",
      "[nltk_data] Downloading package vader_lexicon to\n",
      "[nltk_data]     /Users/liamneild/nltk_data...\n",
      "[nltk_data]   Package vader_lexicon is already up-to-date!\n"
     ]
    }
   ],
   "source": [
    "from analysis.service import SentimentAnanlysisService\n",
    "sentiment_service = SentimentAnanlysisService()"
   ]
  },
  {
   "cell_type": "code",
   "execution_count": 2,
   "metadata": {},
   "outputs": [],
   "source": [
    "\n",
    "from praw.models import Submission\n",
    "from reddit.service import RedditService\n",
    "reddit_service = RedditService()\n",
    "reddit = reddit_service.reddit\n",
    "\n",
    "# me  = reddit.user.me()\n",
    "# me"
   ]
  },
  {
   "cell_type": "code",
   "execution_count": 3,
   "metadata": {},
   "outputs": [],
   "source": [
    "posts = reddit_service.get_posts(search_term=\"NVDA\", limit=5)"
   ]
  },
  {
   "cell_type": "code",
   "execution_count": 4,
   "metadata": {},
   "outputs": [
    {
     "name": "stdout",
     "output_type": "stream",
     "text": [
      "0: People overreacting to NVDA’s drop are about to learn a hard lesson  - wallstreetbets\n",
      "This happens every damn time. The stock drops more than 10-20%, everyone loses their mind, people panic and call for absurdly low price targets like 70-80, and then it shoots back up. \n",
      "\n",
      "And **every** single time these predictions and targets pop up, they are said with the utmost confidence only for them to be wrong. \n",
      "\n",
      "It’s remarkable how people can’t follow the simple adage of buying during fear and selling during greed. This entire sub is panicking and frothing over how much the stock dropped and you’re now…selling? **after** the drop? A drop which was precipitated by a baseless article regarding a DOJ subpoena? No wonder you’re losing your grandma’s money. \n",
      "\n",
      "------------------\n",
      "1: $NVDA IS GOING TO BLOW UP…  - wallstreetbets\n",
      "Many are calling $NVDA a head & shoulders (bearish pattern). I see something different: a failed breakdown—a bullish signal. Bulls defended key support levels, showing momentum is still strong. Above the 30W EMA = bullish. Below = bearish. Right now? We’re above.\n",
      "\n",
      "Failed breakdowns occur when price dips below support but recovers quickly, signaling a momentum shift higher. $NVDA just did this at both $130 horizontal & the diagonal AUG-now trendline. \n",
      "\n",
      "Steady options flow are proving a stronger foundation as we move into 2025.\n",
      "\n",
      "You have been notified of NFA.\n",
      "------------------\n",
      "2: What are your moves on NVDA?  - investing\n",
      "Just curious to see what people are thinking on NVDA. It’s taking a dive since the China probe was announced. \n",
      "\n",
      "Do you think it’s going to bounce back or continue to drop? Are you planning to buy, sell, or hold?\n",
      "\n",
      "I bought in kinda late so I’m debating on whether it’s worth it to hold since it’s been fluctuating at the same amount for the last few months, and even more so now that’s its falling. \n",
      "------------------\n",
      "3: Have $NVDA Analysts Lost Their Minds? - ValueInvesting\n",
      "$NVDA today is priced with a total market value of 3.6 trillion dollars. This is slightly higher than the entire GDP of India. However, \"analysts\" from houses like JP Morgan and Merrill are expecting \"continued rapid growth\" to the tune of 43% (on average). In fact, not one of these \"analysts\" seems to see a ceiling - ever... If $NVDA were to grow another 43% over the next year, that would make it's market value greater than the entire GDP of Japan, and in fact only China and the US would have a higher total GDP than the market value of $NVDA. Does something have to give? What can explain this? And more importantly, where is all the MONEY coming from that people are using to keep opening new positions in the company at this level and beyond?\n",
      "------------------\n",
      "4: Everyone's confused why NVDA didn't pump after AVGO earnings. Could the market realize that AVGO is actually a serious threat to NVDA? - wallstreetbets\n",
      "This post is meant to raise discussion. I'm hoping individuals knowledgeable on the semiconductor landscape can weigh in (specifically on NVDA's GPUs vs AVGO's XPUs/ASICs for AI workloads).\n",
      "\n",
      "From CNBC, [https://www.cnbc.com/2024/12/12/broadcom-avgo-earnings-report-q4-2024-.html:](https://www.cnbc.com/2024/12/12/broadcom-avgo-earnings-report-q4-2024-.html:)\n",
      "\n",
      "https://preview.redd.it/giaf186pav6e1.png?width=765&format=png&auto=webp&s=eab86a7885cfb8dca492184466962c3e46fa4b57\n",
      "\n",
      "NVDA is currently able to charge astronomical prices for its GPUs due to lack of viable alternative chips (Blackwell margins are estimated to be \\~70%). Based on my readings, companies have started seeking alternatives to NVDA's GPUs to avoid dumping hundreds of billions in capex into NVDA's pockets every year.\n",
      "\n",
      "NVDA's customer base only consists of a handful of large tech companies, which means there is very likely overlap between AVGO's 3 'very large customers' and NVDA's (Apple is confirmed as one of those very large customers). Relative to NVDA GPUs, AVGO's ASICs are cheaper and more energy efficient but more difficult to deploy, so companies are turning to ASICs as a longer term solution for their AI data centers while continuing to rely on NVDA in the near term.\n",
      "\n",
      "That being said, could this mean that AVGO poses a material threat to NVDA in the mid to long term? It seems like a natural conclusion if customers are actually turning to Broadcom for a long term solution to NVDA's exorbitant prices. Even after NVDA's slight dip, it's still a top 3 market cap company valued at $3.3T on \\~$60B annual income, so it's still priced for perfection in terms of earnings growth. Which means if AVGO were to threaten NVDA's market share (and consequently its margins as NVDA will not be able to charge w/e it wants with viable competition) in \\~3 years, that earnings growth needed to justify NVDA's massive valuation won't materialize. \n",
      "\n",
      "The counter point I've read is that NVDA and AVGO are not direct competitors. That NVDA GPUs will still be in high demand as they are flexible and can perform a variety of AI tasks, unlike ASICs. So NVDA's addressable market is not threatened. I've been unable to verify the validity of this claim and am hoping experts can weigh in.\n",
      "------------------\n"
     ]
    }
   ],
   "source": [
    "for i, post in enumerate(posts):\n",
    "    print(f'{i}: {post.title} - {post.subreddit}')\n",
    "    print(post.text)\n",
    "    # print(post.url)\n",
    "    print(\"------------------\")\n",
    "    "
   ]
  },
  {
   "cell_type": "code",
   "execution_count": 5,
   "metadata": {},
   "outputs": [
    {
     "name": "stdout",
     "output_type": "stream",
     "text": [
      "-0.39 People overreacting to NVDA’s drop are about to learn a hard lesson  This happens every damn time. The stock drops more than 10-20%, everyone loses their mind, people panic and call for absurdly low price targets like 70-80, and then it shoots back up. \n",
      "\n",
      "And **every** single time these predictions and targets pop up, they are said with the utmost confidence only for them to be wrong. \n",
      "\n",
      "It’s remarkable how people can’t follow the simple adage of buying during fear and selling during greed. This entire sub is panicking and frothing over how much the stock dropped and you’re now…selling? **after** the drop? A drop which was precipitated by a baseless article regarding a DOJ subpoena? No wonder you’re losing your grandma’s money. \n",
      "\n",
      "0.05 $NVDA IS GOING TO BLOW UP…  Many are calling $NVDA a head & shoulders (bearish pattern). I see something different: a failed breakdown—a bullish signal. Bulls defended key support levels, showing momentum is still strong. Above the 30W EMA = bullish. Below = bearish. Right now? We’re above.\n",
      "\n",
      "Failed breakdowns occur when price dips below support but recovers quickly, signaling a momentum shift higher. $NVDA just did this at both $130 horizontal & the diagonal AUG-now trendline. \n",
      "\n",
      "Steady options flow are proving a stronger foundation as we move into 2025.\n",
      "\n",
      "You have been notified of NFA.\n",
      "0.02 What are your moves on NVDA?  Just curious to see what people are thinking on NVDA. It’s taking a dive since the China probe was announced. \n",
      "\n",
      "Do you think it’s going to bounce back or continue to drop? Are you planning to buy, sell, or hold?\n",
      "\n",
      "I bought in kinda late so I’m debating on whether it’s worth it to hold since it’s been fluctuating at the same amount for the last few months, and even more so now that’s its falling. \n",
      "0.21 Have $NVDA Analysts Lost Their Minds? $NVDA today is priced with a total market value of 3.6 trillion dollars. This is slightly higher than the entire GDP of India. However, \"analysts\" from houses like JP Morgan and Merrill are expecting \"continued rapid growth\" to the tune of 43% (on average). In fact, not one of these \"analysts\" seems to see a ceiling - ever... If $NVDA were to grow another 43% over the next year, that would make it's market value greater than the entire GDP of Japan, and in fact only China and the US would have a higher total GDP than the market value of $NVDA. Does something have to give? What can explain this? And more importantly, where is all the MONEY coming from that people are using to keep opening new positions in the company at this level and beyond?\n",
      "0.07 Everyone's confused why NVDA didn't pump after AVGO earnings. Could the market realize that AVGO is actually a serious threat to NVDA? This post is meant to raise discussion. I'm hoping individuals knowledgeable on the semiconductor landscape can weigh in (specifically on NVDA's GPUs vs AVGO's XPUs/ASICs for AI workloads).\n",
      "\n",
      "From CNBC, [https://www.cnbc.com/2024/12/12/broadcom-avgo-earnings-report-q4-2024-.html:](https://www.cnbc.com/2024/12/12/broadcom-avgo-earnings-report-q4-2024-.html:)\n",
      "\n",
      "https://preview.redd.it/giaf186pav6e1.png?width=765&format=png&auto=webp&s=eab86a7885cfb8dca492184466962c3e46fa4b57\n",
      "\n",
      "NVDA is currently able to charge astronomical prices for its GPUs due to lack of viable alternative chips (Blackwell margins are estimated to be \\~70%). Based on my readings, companies have started seeking alternatives to NVDA's GPUs to avoid dumping hundreds of billions in capex into NVDA's pockets every year.\n",
      "\n",
      "NVDA's customer base only consists of a handful of large tech companies, which means there is very likely overlap between AVGO's 3 'very large customers' and NVDA's (Apple is confirmed as one of those very large customers). Relative to NVDA GPUs, AVGO's ASICs are cheaper and more energy efficient but more difficult to deploy, so companies are turning to ASICs as a longer term solution for their AI data centers while continuing to rely on NVDA in the near term.\n",
      "\n",
      "That being said, could this mean that AVGO poses a material threat to NVDA in the mid to long term? It seems like a natural conclusion if customers are actually turning to Broadcom for a long term solution to NVDA's exorbitant prices. Even after NVDA's slight dip, it's still a top 3 market cap company valued at $3.3T on \\~$60B annual income, so it's still priced for perfection in terms of earnings growth. Which means if AVGO were to threaten NVDA's market share (and consequently its margins as NVDA will not be able to charge w/e it wants with viable competition) in \\~3 years, that earnings growth needed to justify NVDA's massive valuation won't materialize. \n",
      "\n",
      "The counter point I've read is that NVDA and AVGO are not direct competitors. That NVDA GPUs will still be in high demand as they are flexible and can perform a variety of AI tasks, unlike ASICs. So NVDA's addressable market is not threatened. I've been unable to verify the validity of this claim and am hoping experts can weigh in.\n"
     ]
    }
   ],
   "source": [
    "for post in posts:\n",
    "    text = post.get_all_text()\n",
    "    sentiment = sentiment_service.get_sentiment(text)\n",
    "    print(round(sentiment, 2), text)"
   ]
  },
  {
   "cell_type": "code",
   "execution_count": null,
   "metadata": {},
   "outputs": [],
   "source": []
  },
  {
   "cell_type": "code",
   "execution_count": null,
   "metadata": {},
   "outputs": [],
   "source": []
  }
 ],
 "metadata": {
  "kernelspec": {
   "display_name": ".venv",
   "language": "python",
   "name": "python3"
  },
  "language_info": {
   "codemirror_mode": {
    "name": "ipython",
    "version": 3
   },
   "file_extension": ".py",
   "mimetype": "text/x-python",
   "name": "python",
   "nbconvert_exporter": "python",
   "pygments_lexer": "ipython3",
   "version": "3.11.11"
  }
 },
 "nbformat": 4,
 "nbformat_minor": 2
}
